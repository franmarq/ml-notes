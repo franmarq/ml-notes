{
  "nbformat": 4,
  "nbformat_minor": 0,
  "metadata": {
    "colab": {
      "name": "Test-Diabetes.ipynb",
      "private_outputs": true,
      "provenance": [],
      "collapsed_sections": [],
      "authorship_tag": "ABX9TyPyFzBF/ctPRT0iwJsnQUGH",
      "include_colab_link": true
    },
    "kernelspec": {
      "name": "python3",
      "display_name": "Python 3"
    },
    "language_info": {
      "name": "python"
    }
  },
  "cells": [
    {
      "cell_type": "markdown",
      "metadata": {
        "id": "view-in-github",
        "colab_type": "text"
      },
      "source": [
        "<a href=\"https://colab.research.google.com/github/franmarq/ml-notes/blob/main/Test_Diabetes.ipynb\" target=\"_parent\"><img src=\"https://colab.research.google.com/assets/colab-badge.svg\" alt=\"Open In Colab\"/></a>"
      ]
    },
    {
      "cell_type": "markdown",
      "metadata": {
        "id": "gYlCzJdFJ3Js"
      },
      "source": [
        "# Create a classification model with Azure Machine Learning designer\n",
        "## Create no-code predictive models with Azure Machine Learning Create a classification model with Azure Machine Learning designer Deploy a predictive service\n",
        "## https://docs.microsoft.com/en-us/learn/modules/create-classification-model-azure-machine-learning-designer/"
      ]
    },
    {
      "cell_type": "code",
      "metadata": {
        "id": "NlVIrIcwJkcU"
      },
      "source": [
        "endpoint = 'http://3d4b75c1-57eb-4a3c-8399-d72269b0f698.eastus2.azurecontainer.io/score' #Replace with your endpoint\n",
        "key = 'jU3QNMwcWdf6yPc1Gb9xMqIHJYFcINbH' #Replace with your key\n",
        "\n",
        "import urllib.request\n",
        "import json\n",
        "import os\n",
        "\n",
        "data = {\n",
        "    \"Inputs\": {\n",
        "        \"WebServiceInput0\":\n",
        "        [\n",
        "            {\n",
        "                    'PatientID': 1882185,\n",
        "                    'Pregnancies': 9,\n",
        "                    'PlasmaGlucose': 104,\n",
        "                    'DiastolicBloodPressure': 51,\n",
        "                    'TricepsThickness': 7,\n",
        "                    'SerumInsulin': 24,\n",
        "                    'BMI': 27.36983156,\n",
        "                    'DiabetesPedigree': 1.3504720469999998,\n",
        "                    'Age': 43,\n",
        "            },\n",
        "        ],\n",
        "    },\n",
        "    \"GlobalParameters\":  {\n",
        "    }\n",
        "}\n",
        "\n",
        "body = str.encode(json.dumps(data))\n",
        "\n",
        "\n",
        "headers = {'Content-Type':'application/json', 'Authorization':('Bearer '+ key)}\n",
        "\n",
        "req = urllib.request.Request(endpoint, body, headers)\n",
        "\n",
        "try:\n",
        "    response = urllib.request.urlopen(req)\n",
        "    result = response.read()\n",
        "    json_result = json.loads(result)\n",
        "    output = json_result[\"Results\"][\"WebServiceOutput0\"][0]\n",
        "    print('Patient: {}\\nPrediction: {}\\nProbability: {:.2f}'.format(output[\"PatientID\"],\n",
        "                                                            output[\"DiabetesPrediction\"],\n",
        "                                                            output[\"Probability\"]))\n",
        "except urllib.error.HTTPError as error:\n",
        "    print(\"The request failed with status code: \" + str(error.code))\n",
        "\n",
        "    # Print the headers to help debug\n",
        "    print(error.info())\n",
        "    print(json.loads(error.read().decode(\"utf8\", 'ignore')))"
      ],
      "execution_count": null,
      "outputs": []
    }
  ]
}