{
  "nbformat": 4,
  "nbformat_minor": 0,
  "metadata": {
    "kernelspec": {
      "name": "python3-azureml",
      "language": "python",
      "display_name": "Python 3.6 - AzureML"
    },
    "language_info": {
      "name": "python",
      "version": "3.6.9",
      "mimetype": "text/x-python",
      "codemirror_mode": {
        "name": "ipython",
        "version": 3
      },
      "pygments_lexer": "ipython3",
      "nbconvert_exporter": "python",
      "file_extension": ".py"
    },
    "kernel_info": {
      "name": "python3-azureml"
    },
    "nteract": {
      "version": "nteract-front-end@1.0.0"
    },
    "colab": {
      "name": "13 - Explore Differential Privacy.ipynb",
      "provenance": [],
      "include_colab_link": true
    }
  },
  "cells": [
    {
      "cell_type": "markdown",
      "metadata": {
        "id": "view-in-github",
        "colab_type": "text"
      },
      "source": [
        "<a href=\"https://colab.research.google.com/github/franmarq/ml-notes/blob/main/13_Explore_Differential_Privacy.ipynb\" target=\"_parent\"><img src=\"https://colab.research.google.com/assets/colab-badge.svg\" alt=\"Open In Colab\"/></a>"
      ]
    },
    {
      "cell_type": "markdown",
      "metadata": {
        "id": "dN3kCGVNyMcJ"
      },
      "source": [
        "# Explore Differential Privacy\n",
        "\n",
        "A machine learning project typically involves an iterative process of data analyses in order to gain insights into the data and determine which variables are most likely to help build predictive models. Analyzing data usually involves aggregative and statistical functions that provide insights into the statistical distribution of variables and the relationships between them. With large volumes of data, the aggregations provide a level of abstraction; but with smaller amounts of data, or with repeated analyses, even aggregated results may reveal details about individual observations.\n",
        "\n",
        "*Differential privacy* is a technique that is designed to preserve the privacy of individual data points by adding \"noise\" to the data. The goal is to ensure that enough noise is added to provide privacy for individual values while ensuring that the overall statistical makeup of the data remains consistent, and aggregations produce statistically similar results as when used with the original raw data.\n",
        "\n",
        "## Install the SmartNoise SDK\n",
        "\n",
        "[*SmartNoise*](https://smartnoise.org/) is a toolkit from OpenDP; a joint project between researchers at Microsoft, Harvard University, and other contributors that aims to provide building blocks for using differential privacy in data analysis and machine learning projects.\n",
        "\n",
        "> **Note**: SmartNoise is in the early stages of development at this time.\n",
        "\n",
        "Let's start by installing the SmartNoise Python SDK package. You can ignore any errors about Azure CLI compatibility in this excercise."
      ]
    },
    {
      "cell_type": "code",
      "metadata": {
        "scrolled": true,
        "id": "dIltiw-1yMcY",
        "outputId": "ee83f628-b80e-4c4a-96a7-0f11eb286c12"
      },
      "source": [
        "!pip install opendp-smartnoise==0.1.4.1"
      ],
      "execution_count": null,
      "outputs": [
        {
          "output_type": "stream",
          "text": [
            "Collecting opendp-smartnoise==0.1.4.1\n",
            "  Downloading opendp_smartnoise-0.1.4.1-py3-none-any.whl (169 kB)\n",
            "\u001b[K     |████████████████████████████████| 169 kB 23.7 MB/s eta 0:00:01\n",
            "\u001b[?25hRequirement already satisfied: scipy in /anaconda/envs/azureml_py36/lib/python3.6/site-packages (from opendp-smartnoise==0.1.4.1) (1.5.2)\n",
            "Collecting pandasql\n",
            "  Downloading pandasql-0.7.3.tar.gz (26 kB)\n",
            "Requirement already satisfied: pyyaml in /anaconda/envs/azureml_py36/lib/python3.6/site-packages (from opendp-smartnoise==0.1.4.1) (5.4.1)\n",
            "Collecting opendp-smartnoise-core\n",
            "  Downloading opendp_smartnoise_core-0.2.2-py3-none-any.whl (12.7 MB)\n",
            "\u001b[K     |████████████████████████████████| 12.7 MB 17.2 MB/s eta 0:00:01\n",
            "\u001b[?25hCollecting antlr4-python3-runtime==4.8\n",
            "  Downloading antlr4-python3-runtime-4.8.tar.gz (112 kB)\n",
            "\u001b[K     |████████████████████████████████| 112 kB 39.9 MB/s eta 0:00:01\n",
            "\u001b[?25hRequirement already satisfied: numpy in /anaconda/envs/azureml_py36/lib/python3.6/site-packages (from opendp-smartnoise==0.1.4.1) (1.18.5)\n",
            "Requirement already satisfied: statsmodels in /anaconda/envs/azureml_py36/lib/python3.6/site-packages (from opendp-smartnoise==0.1.4.1) (0.10.2)\n",
            "Requirement already satisfied: pandas in /anaconda/envs/azureml_py36/lib/python3.6/site-packages (from opendp-smartnoise==0.1.4.1) (0.25.3)\n",
            "Requirement already satisfied: msrest in /anaconda/envs/azureml_py36/lib/python3.6/site-packages (from opendp-smartnoise==0.1.4.1) (0.6.21)\n",
            "Collecting sqlalchemy\n",
            "  Downloading SQLAlchemy-1.4.18-cp36-cp36m-manylinux_2_5_x86_64.manylinux1_x86_64.manylinux_2_17_x86_64.manylinux2014_x86_64.whl (1.5 MB)\n",
            "\u001b[K     |████████████████████████████████| 1.5 MB 52.7 MB/s eta 0:00:01\n",
            "\u001b[?25hRequirement already satisfied: protobuf in /anaconda/envs/azureml_py36/lib/python3.6/site-packages (from opendp-smartnoise-core->opendp-smartnoise==0.1.4.1) (3.17.1)\n",
            "Requirement already satisfied: patsy>=0.4.0 in /anaconda/envs/azureml_py36/lib/python3.6/site-packages (from statsmodels->opendp-smartnoise==0.1.4.1) (0.5.1)\n",
            "Requirement already satisfied: python-dateutil>=2.6.1 in /anaconda/envs/azureml_py36/lib/python3.6/site-packages (from pandas->opendp-smartnoise==0.1.4.1) (2.8.1)\n",
            "Requirement already satisfied: pytz>=2017.2 in /anaconda/envs/azureml_py36/lib/python3.6/site-packages (from pandas->opendp-smartnoise==0.1.4.1) (2021.1)\n",
            "Requirement already satisfied: certifi>=2017.4.17 in /anaconda/envs/azureml_py36/lib/python3.6/site-packages (from msrest->opendp-smartnoise==0.1.4.1) (2021.5.30)\n",
            "Requirement already satisfied: requests~=2.16 in /anaconda/envs/azureml_py36/lib/python3.6/site-packages (from msrest->opendp-smartnoise==0.1.4.1) (2.25.1)\n",
            "Requirement already satisfied: isodate>=0.6.0 in /anaconda/envs/azureml_py36/lib/python3.6/site-packages (from msrest->opendp-smartnoise==0.1.4.1) (0.6.0)\n",
            "Requirement already satisfied: requests-oauthlib>=0.5.0 in /anaconda/envs/azureml_py36/lib/python3.6/site-packages (from msrest->opendp-smartnoise==0.1.4.1) (1.3.0)\n",
            "Requirement already satisfied: greenlet!=0.4.17; python_version >= \"3\" in /anaconda/envs/azureml_py36/lib/python3.6/site-packages (from sqlalchemy->pandasql->opendp-smartnoise==0.1.4.1) (1.1.0)\n",
            "Requirement already satisfied: importlib-metadata; python_version < \"3.8\" in /anaconda/envs/azureml_py36/lib/python3.6/site-packages (from sqlalchemy->pandasql->opendp-smartnoise==0.1.4.1) (4.4.0)\n",
            "Requirement already satisfied: six>=1.9 in /anaconda/envs/azureml_py36/lib/python3.6/site-packages (from protobuf->opendp-smartnoise-core->opendp-smartnoise==0.1.4.1) (1.16.0)\n",
            "Requirement already satisfied: urllib3<1.27,>=1.21.1 in /anaconda/envs/azureml_py36/lib/python3.6/site-packages (from requests~=2.16->msrest->opendp-smartnoise==0.1.4.1) (1.25.11)\n",
            "Requirement already satisfied: idna<3,>=2.5 in /anaconda/envs/azureml_py36/lib/python3.6/site-packages (from requests~=2.16->msrest->opendp-smartnoise==0.1.4.1) (2.10)\n",
            "Requirement already satisfied: chardet<5,>=3.0.2 in /anaconda/envs/azureml_py36/lib/python3.6/site-packages (from requests~=2.16->msrest->opendp-smartnoise==0.1.4.1) (4.0.0)\n",
            "Requirement already satisfied: oauthlib>=3.0.0 in /anaconda/envs/azureml_py36/lib/python3.6/site-packages (from requests-oauthlib>=0.5.0->msrest->opendp-smartnoise==0.1.4.1) (3.1.1)\n",
            "Requirement already satisfied: zipp>=0.5 in /anaconda/envs/azureml_py36/lib/python3.6/site-packages (from importlib-metadata; python_version < \"3.8\"->sqlalchemy->pandasql->opendp-smartnoise==0.1.4.1) (3.4.1)\n",
            "Requirement already satisfied: typing-extensions>=3.6.4; python_version < \"3.8\" in /anaconda/envs/azureml_py36/lib/python3.6/site-packages (from importlib-metadata; python_version < \"3.8\"->sqlalchemy->pandasql->opendp-smartnoise==0.1.4.1) (3.10.0.0)\n",
            "Building wheels for collected packages: pandasql, antlr4-python3-runtime\n",
            "  Building wheel for pandasql (setup.py) ... \u001b[?25l-\b \b\\\b \bdone\n",
            "\u001b[?25h  Created wheel for pandasql: filename=pandasql-0.7.3-py3-none-any.whl size=26818 sha256=96f7407e936915aadc54d83b1e12d6866c1478a52ffd4f2d95ed242ba2f3f1fc\n",
            "  Stored in directory: /home/azureuser/.cache/pip/wheels/a6/64/11/62d5f7b88421a5d80068ac9937fe2915e497da3eba900c8f59\n",
            "  Building wheel for antlr4-python3-runtime (setup.py) ... \u001b[?25l-\b \b\\\b \bdone\n",
            "\u001b[?25h  Created wheel for antlr4-python3-runtime: filename=antlr4_python3_runtime-4.8-py3-none-any.whl size=141229 sha256=0d96f39dce256b5f74724e9a6b3213d406a198d30ca38990a962129e9418ad2a\n",
            "  Stored in directory: /home/azureuser/.cache/pip/wheels/a8/04/35/9449686f1c26ff16f6224dc942e108329f3782185802ec6b93\n",
            "Successfully built pandasql antlr4-python3-runtime\n",
            "\u001b[31mERROR: azure-cli 2.24.2 has requirement antlr4-python3-runtime~=4.7.2, but you'll have antlr4-python3-runtime 4.8 which is incompatible.\u001b[0m\n",
            "\u001b[31mERROR: azure-cli 2.24.2 has requirement azure-graphrbac~=0.60.0, but you'll have azure-graphrbac 0.61.1 which is incompatible.\u001b[0m\n",
            "\u001b[31mERROR: azure-cli 2.24.2 has requirement azure-mgmt-containerregistry==3.0.0rc17, but you'll have azure-mgmt-containerregistry 8.0.0 which is incompatible.\u001b[0m\n",
            "\u001b[31mERROR: azure-cli 2.24.2 has requirement azure-mgmt-resource==18.0.0, but you'll have azure-mgmt-resource 13.0.0 which is incompatible.\u001b[0m\n",
            "\u001b[31mERROR: azure-cli 2.24.2 has requirement azure-mgmt-storage~=18.0.0, but you'll have azure-mgmt-storage 11.2.0 which is incompatible.\u001b[0m\n",
            "\u001b[31mERROR: azure-cli 2.24.2 has requirement pytz==2019.1, but you'll have pytz 2021.1 which is incompatible.\u001b[0m\n",
            "\u001b[31mERROR: azure-cli 2.24.2 has requirement websocket-client~=0.56.0, but you'll have websocket-client 1.0.1 which is incompatible.\u001b[0m\n",
            "Installing collected packages: sqlalchemy, pandasql, opendp-smartnoise-core, antlr4-python3-runtime, opendp-smartnoise\n",
            "  Attempting uninstall: antlr4-python3-runtime\n",
            "    Found existing installation: antlr4-python3-runtime 4.7.2\n",
            "    Uninstalling antlr4-python3-runtime-4.7.2:\n",
            "      Successfully uninstalled antlr4-python3-runtime-4.7.2\n",
            "Successfully installed antlr4-python3-runtime-4.8 opendp-smartnoise-0.1.4.1 opendp-smartnoise-core-0.2.2 pandasql-0.7.3 sqlalchemy-1.4.18\n"
          ],
          "name": "stdout"
        }
      ]
    },
    {
      "cell_type": "markdown",
      "metadata": {
        "id": "6e3w-hyHyMcd"
      },
      "source": [
        "## Load data\n",
        "\n",
        "Now, let's take a look at some raw data. In this case, we have a set of 10,000 records for patients who have been tested for diabetes."
      ]
    },
    {
      "cell_type": "code",
      "metadata": {
        "gather": {
          "logged": 1624332625491
        },
        "id": "vc5TILsvyMcf",
        "outputId": "82550ca5-ef08-4771-8796-9aac9962dbae"
      },
      "source": [
        "import pandas as pd\n",
        "\n",
        "data_path = 'data/diabetes.csv'\n",
        "diabetes = pd.read_csv(data_path)\n",
        "diabetes.describe()"
      ],
      "execution_count": null,
      "outputs": [
        {
          "output_type": "execute_result",
          "data": {
            "text/plain": [
              "          PatientID  Pregnancies  PlasmaGlucose  DiastolicBloodPressure  \\\n",
              "count  1.000000e+04  10000.00000   10000.000000            10000.000000   \n",
              "mean   1.502122e+06      3.25580     107.850200               71.207500   \n",
              "std    2.892868e+05      3.40572      31.920909               16.801478   \n",
              "min    1.000038e+06      0.00000      44.000000               24.000000   \n",
              "25%    1.251672e+06      0.00000      84.000000               58.000000   \n",
              "50%    1.504394e+06      2.00000     105.000000               72.000000   \n",
              "75%    1.754608e+06      6.00000     129.000000               85.000000   \n",
              "max    1.999997e+06     14.00000     192.000000              117.000000   \n",
              "\n",
              "       TricepsThickness  SerumInsulin           BMI  DiabetesPedigree  \\\n",
              "count       10000.00000  10000.000000  10000.000000      10000.000000   \n",
              "mean           28.81760    139.243600     31.567022          0.400944   \n",
              "std            14.50648    133.777919      9.804366          0.381463   \n",
              "min             7.00000     14.000000     18.200807          0.078044   \n",
              "25%            15.00000     39.000000     21.247427          0.137065   \n",
              "50%            31.00000     85.000000     31.922421          0.199698   \n",
              "75%            41.00000    197.000000     39.328921          0.621158   \n",
              "max            92.00000    796.000000     56.034628          2.301594   \n",
              "\n",
              "                Age      Diabetic  \n",
              "count  10000.000000  10000.000000  \n",
              "mean      30.134100      0.334400  \n",
              "std       12.106047      0.471804  \n",
              "min       21.000000      0.000000  \n",
              "25%       22.000000      0.000000  \n",
              "50%       24.000000      0.000000  \n",
              "75%       35.000000      1.000000  \n",
              "max       77.000000      1.000000  "
            ],
            "text/html": [
              "<div>\n",
              "<style scoped>\n",
              "    .dataframe tbody tr th:only-of-type {\n",
              "        vertical-align: middle;\n",
              "    }\n",
              "\n",
              "    .dataframe tbody tr th {\n",
              "        vertical-align: top;\n",
              "    }\n",
              "\n",
              "    .dataframe thead th {\n",
              "        text-align: right;\n",
              "    }\n",
              "</style>\n",
              "<table border=\"1\" class=\"dataframe\">\n",
              "  <thead>\n",
              "    <tr style=\"text-align: right;\">\n",
              "      <th></th>\n",
              "      <th>PatientID</th>\n",
              "      <th>Pregnancies</th>\n",
              "      <th>PlasmaGlucose</th>\n",
              "      <th>DiastolicBloodPressure</th>\n",
              "      <th>TricepsThickness</th>\n",
              "      <th>SerumInsulin</th>\n",
              "      <th>BMI</th>\n",
              "      <th>DiabetesPedigree</th>\n",
              "      <th>Age</th>\n",
              "      <th>Diabetic</th>\n",
              "    </tr>\n",
              "  </thead>\n",
              "  <tbody>\n",
              "    <tr>\n",
              "      <th>count</th>\n",
              "      <td>1.000000e+04</td>\n",
              "      <td>10000.00000</td>\n",
              "      <td>10000.000000</td>\n",
              "      <td>10000.000000</td>\n",
              "      <td>10000.00000</td>\n",
              "      <td>10000.000000</td>\n",
              "      <td>10000.000000</td>\n",
              "      <td>10000.000000</td>\n",
              "      <td>10000.000000</td>\n",
              "      <td>10000.000000</td>\n",
              "    </tr>\n",
              "    <tr>\n",
              "      <th>mean</th>\n",
              "      <td>1.502122e+06</td>\n",
              "      <td>3.25580</td>\n",
              "      <td>107.850200</td>\n",
              "      <td>71.207500</td>\n",
              "      <td>28.81760</td>\n",
              "      <td>139.243600</td>\n",
              "      <td>31.567022</td>\n",
              "      <td>0.400944</td>\n",
              "      <td>30.134100</td>\n",
              "      <td>0.334400</td>\n",
              "    </tr>\n",
              "    <tr>\n",
              "      <th>std</th>\n",
              "      <td>2.892868e+05</td>\n",
              "      <td>3.40572</td>\n",
              "      <td>31.920909</td>\n",
              "      <td>16.801478</td>\n",
              "      <td>14.50648</td>\n",
              "      <td>133.777919</td>\n",
              "      <td>9.804366</td>\n",
              "      <td>0.381463</td>\n",
              "      <td>12.106047</td>\n",
              "      <td>0.471804</td>\n",
              "    </tr>\n",
              "    <tr>\n",
              "      <th>min</th>\n",
              "      <td>1.000038e+06</td>\n",
              "      <td>0.00000</td>\n",
              "      <td>44.000000</td>\n",
              "      <td>24.000000</td>\n",
              "      <td>7.00000</td>\n",
              "      <td>14.000000</td>\n",
              "      <td>18.200807</td>\n",
              "      <td>0.078044</td>\n",
              "      <td>21.000000</td>\n",
              "      <td>0.000000</td>\n",
              "    </tr>\n",
              "    <tr>\n",
              "      <th>25%</th>\n",
              "      <td>1.251672e+06</td>\n",
              "      <td>0.00000</td>\n",
              "      <td>84.000000</td>\n",
              "      <td>58.000000</td>\n",
              "      <td>15.00000</td>\n",
              "      <td>39.000000</td>\n",
              "      <td>21.247427</td>\n",
              "      <td>0.137065</td>\n",
              "      <td>22.000000</td>\n",
              "      <td>0.000000</td>\n",
              "    </tr>\n",
              "    <tr>\n",
              "      <th>50%</th>\n",
              "      <td>1.504394e+06</td>\n",
              "      <td>2.00000</td>\n",
              "      <td>105.000000</td>\n",
              "      <td>72.000000</td>\n",
              "      <td>31.00000</td>\n",
              "      <td>85.000000</td>\n",
              "      <td>31.922421</td>\n",
              "      <td>0.199698</td>\n",
              "      <td>24.000000</td>\n",
              "      <td>0.000000</td>\n",
              "    </tr>\n",
              "    <tr>\n",
              "      <th>75%</th>\n",
              "      <td>1.754608e+06</td>\n",
              "      <td>6.00000</td>\n",
              "      <td>129.000000</td>\n",
              "      <td>85.000000</td>\n",
              "      <td>41.00000</td>\n",
              "      <td>197.000000</td>\n",
              "      <td>39.328921</td>\n",
              "      <td>0.621158</td>\n",
              "      <td>35.000000</td>\n",
              "      <td>1.000000</td>\n",
              "    </tr>\n",
              "    <tr>\n",
              "      <th>max</th>\n",
              "      <td>1.999997e+06</td>\n",
              "      <td>14.00000</td>\n",
              "      <td>192.000000</td>\n",
              "      <td>117.000000</td>\n",
              "      <td>92.00000</td>\n",
              "      <td>796.000000</td>\n",
              "      <td>56.034628</td>\n",
              "      <td>2.301594</td>\n",
              "      <td>77.000000</td>\n",
              "      <td>1.000000</td>\n",
              "    </tr>\n",
              "  </tbody>\n",
              "</table>\n",
              "</div>"
            ]
          },
          "metadata": {
            "tags": []
          },
          "execution_count": 2
        }
      ]
    },
    {
      "cell_type": "markdown",
      "metadata": {
        "id": "kOqKuUmKyMch"
      },
      "source": [
        "The output from the code above shows the key summary statistics for the variables in the diabetes dataset.\n",
        "\n",
        "## Perform an analysis\n",
        "\n",
        "You can use SmartNoise to create an analysis in which noise is added to the source data. The underlying mathematics of how the noise is added can be quite complex, but SmartNoise takes care of most of the details for you. However, there are a few concepts it's useful to be aware of.\n",
        "\n",
        "- **Upper and lower bounds**: *Clamping* is used to set upper and lower bounds on values for a variable. This is required to ensure that the noise generated by SmartNoise is consistent with the expected distribution of the original data.\n",
        "- **Sample size**: To generate consistent differentially private data for some aggregations, SmartNoise needs to know the size of the data sample to be generated.\n",
        "- **Epsilon**: Put simplistically, *epsilon* is a non-negative value that provides an inverse measure of the amount of noise added to the data. A low epsilon results in a dataset with a greater level of privacy, while a high epsilon results in a dataset that is closer to the original data. Generally, you should use epsilon values between 0 and 1. Epsilon is correlated with another value named *delta*, that indicates the probability that a report generated by an analysis is not fully private.\n",
        "\n",
        "With these concepts in mind, examine and run the following code, which creates an analysis and reports the mean **Age** value from the differentially private data. The actual mean value from the original raw data is also shown for comparison."
      ]
    },
    {
      "cell_type": "code",
      "metadata": {
        "gather": {
          "logged": 1624332691714
        },
        "id": "FV12G1xRyMcj",
        "outputId": "bf361d84-7aa7-4c4b-e003-eac9b80ebb69"
      },
      "source": [
        "import opendp.smartnoise.core as sn\n",
        "\n",
        "cols = list(diabetes.columns)\n",
        "age_range = [0.0, 120.0]\n",
        "samples = len(diabetes)\n",
        "\n",
        "with sn.Analysis() as analysis:\n",
        "    # load data\n",
        "    data = sn.Dataset(path=data_path, column_names=cols)\n",
        "    \n",
        "    # Convert Age to float\n",
        "    age_dt = sn.to_float(data['Age'])\n",
        "    \n",
        "    # get mean of age\n",
        "    age_mean = sn.dp_mean(data = age_dt,\n",
        "                          privacy_usage = {'epsilon': .50},\n",
        "                          data_lower = age_range[0],\n",
        "                          data_upper = age_range[1],\n",
        "                          data_rows = samples\n",
        "                         )\n",
        "    \n",
        "analysis.release()\n",
        "\n",
        "# print differentially private estimate of mean age\n",
        "print(\"Private mean age:\",age_mean.value)\n",
        "\n",
        "# print actual mean age\n",
        "print(\"Actual mean age:\",diabetes.Age.mean())"
      ],
      "execution_count": null,
      "outputs": [
        {
          "output_type": "stream",
          "text": [
            "Private mean age: 30.168\n",
            "Actual mean age: 30.1341\n"
          ],
          "name": "stdout"
        }
      ]
    },
    {
      "cell_type": "markdown",
      "metadata": {
        "id": "aqVjQssWyMcl"
      },
      "source": [
        "## Explore data distribution with histograms\n",
        "\n",
        "It's common when analyzing data to examine the distribution of a variable using a histogram.\n",
        "\n",
        "For example, let's look at the true distribution of ages in the diabetes dataset."
      ]
    },
    {
      "cell_type": "code",
      "metadata": {
        "gather": {
          "logged": 1624332707148
        },
        "id": "A3Sz2WhNyMcn",
        "outputId": "af56d843-24f9-4c3a-eeb2-347a6e2f1296"
      },
      "source": [
        "import matplotlib.pyplot as plt\n",
        "import numpy as np\n",
        "%matplotlib inline\n",
        "\n",
        "ages = list(range(0, 130, 10))\n",
        "age = diabetes.Age\n",
        "\n",
        "# Plot a histogram with 10-year bins\n",
        "n_age, bins, patches = plt.hist(age, bins=ages, color='blue', alpha=0.7, rwidth=0.85)\n",
        "plt.grid(axis='y', alpha=0.75)\n",
        "plt.xlabel('Age')\n",
        "plt.ylabel('Frequency')\n",
        "plt.title('True Age Distribution')\n",
        "plt.show()\n",
        "print(n_age.astype(int))"
      ],
      "execution_count": null,
      "outputs": [
        {
          "output_type": "display_data",
          "data": {
            "text/plain": [
              "<Figure size 432x288 with 1 Axes>"
            ],
            "image/png": "[encoded data removed]"
          },
          "metadata": {
            "tags": [],
            "needs_background": "light"
          }
        },
        {
          "output_type": "stream",
          "text": [
            "[   0    0 6735 1074 1229  614  273   75    0    0    0    0]\n"
          ],
          "name": "stdout"
        }
      ]
    },
    {
      "cell_type": "markdown",
      "metadata": {
        "id": "Bnz3XvHOyMcq"
      },
      "source": [
        "Now let's compare that a differentially private histogram of Age."
      ]
    },
    {
      "cell_type": "code",
      "metadata": {
        "gather": {
          "logged": 1624332718227
        },
        "id": "iY3KlujfyMcr",
        "outputId": "89d20b32-4886-4987-8b20-8402ceda30ca"
      },
      "source": [
        "import matplotlib.pyplot as plt\n",
        "\n",
        "with sn.Analysis() as analysis:\n",
        "    data = sn.Dataset(path = data_path, column_names = cols)\n",
        "\n",
        "    age_histogram = sn.dp_histogram(\n",
        "            sn.to_int(data['Age'], lower=0, upper=120),\n",
        "            edges = ages,\n",
        "            upper = 10000,\n",
        "            null_value = -1,\n",
        "            privacy_usage = {'epsilon': 0.5}\n",
        "        )\n",
        "    \n",
        "analysis.release()\n",
        "\n",
        "plt.ylim([0,7000])\n",
        "width=4\n",
        "agecat_left = [x + width for x in ages]\n",
        "agecat_right = [x + 2*width for x in ages]\n",
        "plt.bar(list(range(0,120,10)), n_age, width=width, color='blue', alpha=0.7, label='True')\n",
        "plt.bar(agecat_left, age_histogram.value, width=width, color='orange', alpha=0.7, label='Private')\n",
        "plt.legend()\n",
        "plt.title('Histogram of Age')\n",
        "plt.xlabel('Age')\n",
        "plt.ylabel('Frequency')\n",
        "plt.show()\n",
        "\n",
        "print(age_histogram.value)"
      ],
      "execution_count": null,
      "outputs": [
        {
          "output_type": "display_data",
          "data": {
            "text/plain": [
              "<Figure size 432x288 with 1 Axes>"
            ],
            "image/png": "[encoded data removed]"
          },
          "metadata": {
            "tags": [],
            "needs_background": "light"
          }
        },
        {
          "output_type": "stream",
          "text": [
            "[   0    0 6744 1063 1228  605  276   76    0    0    1    2    0]\n"
          ],
          "name": "stdout"
        }
      ]
    },
    {
      "cell_type": "markdown",
      "metadata": {
        "id": "SIGiUhROyMct"
      },
      "source": [
        "The histograms are similar enough to ensure that reports based on the differentially private data provide the same insights as reports from the raw data.\n",
        "\n",
        "## Calculating covariance\n",
        "\n",
        "Another common goal of analysis is to establish relationships between variables. SmartNoise provides a differentially private *covariance* function that can help with this."
      ]
    },
    {
      "cell_type": "code",
      "metadata": {
        "gather": {
          "logged": 1624332750966
        },
        "id": "FO2WMWeUyMcv",
        "outputId": "20f1edc3-bb73-446f-bff8-1807c4013683"
      },
      "source": [
        "with sn.Analysis() as analysis:\n",
        "    sn_data = sn.Dataset(path = data_path, column_names = cols)\n",
        "\n",
        "    age_bp_cov_scalar = sn.dp_covariance(\n",
        "                left = sn.to_float(sn_data['Age']),\n",
        "                right = sn.to_float(sn_data['DiastolicBloodPressure']),\n",
        "                privacy_usage = {'epsilon': 1.0},\n",
        "                left_lower = 0.,\n",
        "                left_upper = 120.,\n",
        "                left_rows = 10000,\n",
        "                right_lower = 0.,\n",
        "                right_upper = 150.,\n",
        "                right_rows = 10000)\n",
        "analysis.release()\n",
        "print('Differentially private covariance: {0}'.format(age_bp_cov_scalar.value[0][0]))\n",
        "print('Actual covariance', diabetes.Age.cov(diabetes.DiastolicBloodPressure))"
      ],
      "execution_count": null,
      "outputs": [
        {
          "output_type": "stream",
          "text": [
            "Differentially private covariance: 7.2\n",
            "Actual covariance 8.720346284628466\n"
          ],
          "name": "stdout"
        }
      ]
    },
    {
      "cell_type": "markdown",
      "metadata": {
        "id": "dSpLW37ayMcw"
      },
      "source": [
        "In this case, the covariance between **Age** and **DisatolicBloodPressure** is positive, indicating that older patients tend to have higher blood pressure.\n",
        "\n",
        "## Use SQL queries\n",
        "\n",
        "In addition to the **Analysis** functionality, SmartNoise enables you to use SQL queries against data sources to retrieve differentially private aggregated results.\n",
        "\n",
        "First, you need to define the metadata for the tables in your data schema. You can do this in a .yml file, such as the **diabetes.yml** file in the **/metadata** folder. The metadata describes the fields in the tables, including data types and minimum and maximum values for numeric fields."
      ]
    },
    {
      "cell_type": "code",
      "metadata": {
        "gather": {
          "logged": 1624332759484
        },
        "id": "2_P8JeRjyMcx",
        "outputId": "86f200a1-bcae-4e0d-e49a-5b8f6340fd87"
      },
      "source": [
        "from opendp.smartnoise.metadata import CollectionMetadata\n",
        "\n",
        "meta = CollectionMetadata.from_file('metadata/diabetes.yml')\n",
        "print (meta)"
      ],
      "execution_count": null,
      "outputs": [
        {
          "output_type": "stream",
          "text": [
            "diabetes.diabetes [10000 rows]\n",
            "\t*PatientID [int] (unbounded)\n",
            "\tPregnancies [int] (0,20)\n",
            "\tPlasmaGlucose [float] (0.0,200.0)\n",
            "\tDiastolicBloodPressure [float] (0.0,150.0)\n",
            "\tTricepsThickness [float] (0.0,100.0)\n",
            "\tSerumInsulin [float] (0.0,1000.0)\n",
            "\tBMI [float] (0.0,100.0)\n",
            "\tDiabetesPedigree [float] (0.0,3.0)\n",
            "\tAge [int] (0,120)\n",
            "\tDiabetic (boolean)\n"
          ],
          "name": "stdout"
        }
      ]
    },
    {
      "cell_type": "markdown",
      "metadata": {
        "id": "2GYfO8W5yMcy"
      },
      "source": [
        "With the metadata defined, you can create *readers* that you can query. In the following example, we'll create a **PandasReader** to read the raw data from a Pandas dataframe, and a **PrivateReader** that adds a differential privacy layer to the **PandasReader**."
      ]
    },
    {
      "cell_type": "code",
      "metadata": {
        "scrolled": false,
        "gather": {
          "logged": 1624332789216
        },
        "id": "dbb5MyzQyMcz",
        "outputId": "f3bbd891-6181-4422-f7eb-a35943ae43d2"
      },
      "source": [
        "from opendp.smartnoise.sql import PandasReader, PrivateReader\n",
        "\n",
        "reader = PandasReader(diabetes, meta)\n",
        "private_reader = PrivateReader(reader=reader, metadata=meta, epsilon_per_column=0.7)\n",
        "print('Readers ready.')"
      ],
      "execution_count": null,
      "outputs": [
        {
          "output_type": "stream",
          "text": [
            "Readers ready.\n"
          ],
          "name": "stdout"
        }
      ]
    },
    {
      "cell_type": "markdown",
      "metadata": {
        "id": "6zcVdkbdyMc0"
      },
      "source": [
        "Now you can submit a SQL query that returns an aggregated resultset to the private reader."
      ]
    },
    {
      "cell_type": "code",
      "metadata": {
        "gather": {
          "logged": 1624332812734
        },
        "id": "Pub6iLz6yMc1",
        "outputId": "ca49f439-43bb-4f62-a0f5-105ee2359566"
      },
      "source": [
        "query = 'SELECT Diabetic, AVG(Age) AS AvgAge FROM diabetes.diabetes GROUP BY Diabetic'\n",
        "\n",
        "result_dp = private_reader.execute(query)\n",
        "print(result_dp)"
      ],
      "execution_count": null,
      "outputs": [
        {
          "output_type": "stream",
          "text": [
            "[['Diabetic', 'AvgAge'], [False, 27.341170657370814], [True, 36.453214502947624]]\n"
          ],
          "name": "stdout"
        }
      ]
    },
    {
      "cell_type": "markdown",
      "metadata": {
        "id": "vw7e4yxgyMc8"
      },
      "source": [
        "Let's compare the result to the same aggregation from the raw data."
      ]
    },
    {
      "cell_type": "code",
      "metadata": {
        "gather": {
          "logged": 1624332820195
        },
        "id": "lRJZ6PbnyMc9",
        "outputId": "4d57505a-85ec-4816-c418-6bb1d15820b3"
      },
      "source": [
        "result = reader.execute(query)\n",
        "print(result)"
      ],
      "execution_count": null,
      "outputs": [
        {
          "output_type": "stream",
          "text": [
            "[('Diabetic', 'AvgAge'), (0, 27.073467548076923), (1, 36.22607655502392)]\n"
          ],
          "name": "stdout"
        }
      ]
    },
    {
      "cell_type": "markdown",
      "metadata": {
        "id": "vsQQrr0VyMc-"
      },
      "source": [
        "You can customize the behavior of a **PrivateReader** with the **epsilon_per_column parameter**.\n",
        "\n",
        "Let's try a reader with a high epsilon (low privacy) value, and another with a low epsilon (high privacy) value."
      ]
    },
    {
      "cell_type": "code",
      "metadata": {
        "gather": {
          "logged": 1624332829029
        },
        "id": "85v5h0yPyMc_",
        "outputId": "215e4058-de2e-44d5-f91a-eef1f3ee53eb"
      },
      "source": [
        "low_privacy_reader = PrivateReader(reader, meta, 5.0)  # large epsilon, less privacy\n",
        "result = low_privacy_reader.execute(query)\n",
        "print(result)\n",
        "print()\n",
        "\n",
        "high_privacy_reader = PrivateReader(reader, meta, 0.1)  # smaller epsilon, more privacy\n",
        "result = high_privacy_reader.execute(query)\n",
        "print(result)"
      ],
      "execution_count": null,
      "outputs": [
        {
          "output_type": "stream",
          "text": [
            "[['Diabetic', 'AvgAge'], [False, 27.09014768770566], [True, 36.28987511772633]]\n",
            "\n",
            "[['Diabetic', 'AvgAge'], [False, 28.647887247714213], [True, 44.903792928826405]]\n"
          ],
          "name": "stdout"
        }
      ]
    },
    {
      "cell_type": "markdown",
      "metadata": {
        "id": "KTzxD_ZayMdB"
      },
      "source": [
        "Note that the results of the high epsilon (low privacy) reader are closer to the true results from the raw data than the results from the low epsilon (high privacy) reader.\n",
        "\n",
        "## Learn more\n",
        "\n",
        "To learn more about differential privacy with SmartNoise, see [https://smartnoise.org](https://smartnoise.org/)"
      ]
    }
  ]
}