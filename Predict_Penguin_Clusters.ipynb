{
  "nbformat": 4,
  "nbformat_minor": 0,
  "metadata": {
    "colab": {
      "name": "Predict Penguin Clusters.ipynb",
      "provenance": [],
      "collapsed_sections": [],
      "authorship_tag": "ABX9TyO9T6ASofKQN4NUJjTQV3HS",
      "include_colab_link": true
    },
    "kernelspec": {
      "name": "python3",
      "display_name": "Python 3"
    },
    "language_info": {
      "name": "python"
    }
  },
  "cells": [
    {
      "cell_type": "markdown",
      "metadata": {
        "id": "view-in-github",
        "colab_type": "text"
      },
      "source": [
        "<a href=\"https://colab.research.google.com/github/franmarq/ml-notes/blob/main/Predict_Penguin_Clusters.ipynb\" target=\"_parent\"><img src=\"https://colab.research.google.com/assets/colab-badge.svg\" alt=\"Open In Colab\"/></a>"
      ]
    },
    {
      "cell_type": "markdown",
      "metadata": {
        "id": "m5iY6Cc8QS-H"
      },
      "source": [
        "# Create a Clustering Model with Azure Machine Learning designer\n",
        "# Create no-code predictive models with Azure Machine Learning Create a Clustering Model with Azure Machine Learning designer Deploy a predictive service\n",
        "# https://docs.microsoft.com/en-us/learn/modules/create-clustering-model-azure-machine-learning-designer/"
      ]
    },
    {
      "cell_type": "code",
      "metadata": {
        "colab": {
          "base_uri": "https://localhost:8080/"
        },
        "id": "78DhY3GBQREp",
        "outputId": "e6c55e46-8671-4361-b3ca-08f36dbde44e"
      },
      "source": [
        "endpoint = 'http://34581fd0-a1dc-4610-96b0-0103c49f1a25.eastus2.azurecontainer.io/score' #Replace with your endpoint\n",
        "key = 'TdgPgxJ9km8lDA0gdvGonWKngRsah25R' #Replace with your key\n",
        "\n",
        "import urllib.request\n",
        "import json\n",
        "import os\n",
        "\n",
        "data = {\n",
        "    \"Inputs\": {\n",
        "        \"WebServiceInput0\":\n",
        "        [\n",
        "            {\n",
        "                    'CulmenLength': 49.1,\n",
        "                    'CulmenDepth': 4.8,\n",
        "                    'FlipperLength': 1220,\n",
        "                    'BodyMass': 5150,\n",
        "            },\n",
        "        ],\n",
        "    },\n",
        "    \"GlobalParameters\":  {\n",
        "    }\n",
        "}\n",
        "\n",
        "body = str.encode(json.dumps(data))\n",
        "\n",
        "\n",
        "headers = {'Content-Type':'application/json', 'Authorization':('Bearer '+ key)}\n",
        "\n",
        "req = urllib.request.Request(endpoint, body, headers)\n",
        "\n",
        "try:\n",
        "    response = urllib.request.urlopen(req)\n",
        "    result = response.read()\n",
        "    json_result = json.loads(result)\n",
        "    output = json_result[\"Results\"][\"WebServiceOutput0\"][0]\n",
        "    print('Cluster: {}'.format(output[\"Assignments\"]))\n",
        "\n",
        "except urllib.error.HTTPError as error:\n",
        "    print(\"The request failed with status code: \" + str(error.code))\n",
        "\n",
        "    # Print the headers to help debug\n",
        "    print(error.info())\n",
        "    print(json.loads(error.read().decode(\"utf8\", 'ignore')))"
      ],
      "execution_count": 1,
      "outputs": [
        {
          "output_type": "stream",
          "text": [
            "Cluster: 1\n"
          ],
          "name": "stdout"
        }
      ]
    }
  ]
}