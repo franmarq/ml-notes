{
  "nbformat": 4,
  "nbformat_minor": 0,
  "metadata": {
    "colab": {
      "name": "Predict Auto Price inference pipeline.ipynb",
      "private_outputs": true,
      "provenance": [],
      "collapsed_sections": [],
      "authorship_tag": "ABX9TyMOmU+YakqQKqfiXp/ldGF3",
      "include_colab_link": true
    },
    "kernelspec": {
      "name": "python3",
      "display_name": "Python 3"
    },
    "language_info": {
      "name": "python"
    }
  },
  "cells": [
    {
      "cell_type": "markdown",
      "metadata": {
        "id": "view-in-github",
        "colab_type": "text"
      },
      "source": [
        "<a href=\"https://colab.research.google.com/github/franmarq/ml-notes/blob/main/Predict_Auto_Price_inference_pipeline.ipynb\" target=\"_parent\"><img src=\"https://colab.research.google.com/assets/colab-badge.svg\" alt=\"Open In Colab\"/></a>"
      ]
    },
    {
      "cell_type": "markdown",
      "metadata": {
        "id": "adc6d7fu_vf2"
      },
      "source": [
        "# Create no-code predictive models with Azure Machine Learning Create a Regression Model with Azure Machine Learning designer Deploy a predictive service\n",
        "# Deploy a predictive service\n",
        "# https://docs.microsoft.com/en-us/learn/modules/create-regression-model-azure-machine-learning-designer/"
      ]
    },
    {
      "cell_type": "code",
      "metadata": {
        "id": "N9GZ7Mnn_p5R"
      },
      "source": [
        "endpoint = 'XXXXXXXX' #Replace with your endpoint\n",
        "key = 'XXXXXX' #Replace with your key\n",
        "\n",
        "import urllib.request\n",
        "import json\n",
        "import os\n",
        "\n",
        "# Prepare the input data\n",
        "data = {\n",
        "    \"Inputs\": {\n",
        "        \"WebServiceInput0\":\n",
        "        [\n",
        "            {\n",
        "                    'symboling': 3,\n",
        "                    'normalized-losses': None,\n",
        "                    'make': \"alfa-romero\",\n",
        "                    'fuel-type': \"gas\",\n",
        "                    'aspiration': \"std\",\n",
        "                    'num-of-doors': \"two\",\n",
        "                    'body-style': \"convertible\",\n",
        "                    'drive-wheels': \"rwd\",\n",
        "                    'engine-location': \"front\",\n",
        "                    'wheel-base': 88.6,\n",
        "                    'length': 168.8,\n",
        "                    'width': 64.1,\n",
        "                    'height': 48.8,\n",
        "                    'curb-weight': 2548,\n",
        "                    'engine-type': \"dohc\",\n",
        "                    'num-of-cylinders': \"four\",\n",
        "                    'engine-size': 130,\n",
        "                    'fuel-system': \"mpfi\",\n",
        "                    'bore': 3.47,\n",
        "                    'stroke': 2.68,\n",
        "                    'compression-ratio': 9,\n",
        "                    'horsepower': 111,\n",
        "                    'peak-rpm': 5000,\n",
        "                    'city-mpg': 21,\n",
        "                    'highway-mpg': 27,\n",
        "            },\n",
        "        ],\n",
        "    },\n",
        "    \"GlobalParameters\":  {\n",
        "    }\n",
        "}\n",
        "body = str.encode(json.dumps(data))\n",
        "headers = {'Content-Type':'application/json', 'Authorization':('Bearer '+ key)}\n",
        "req = urllib.request.Request(endpoint, body, headers)\n",
        "\n",
        "try:\n",
        "    response = urllib.request.urlopen(req)\n",
        "    result = response.read()\n",
        "    json_result = json.loads(result)\n",
        "    y = json_result[\"Results\"][\"WebServiceOutput0\"][0][\"predicted_price\"]\n",
        "    print('Predicted price: {:.2f}'.format(y))\n",
        "\n",
        "except urllib.error.HTTPError as error:\n",
        "    print(\"The request failed with status code: \" + str(error.code))\n",
        "\n",
        "    # Print the headers to help debug the error\n",
        "    print(error.info())\n",
        "    print(json.loads(error.read().decode(\"utf8\", 'ignore')))"
      ],
      "execution_count": null,
      "outputs": []
    }
  ]
}
