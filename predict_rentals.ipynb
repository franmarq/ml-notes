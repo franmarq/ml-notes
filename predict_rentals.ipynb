{
  "nbformat": 4,
  "nbformat_minor": 0,
  "metadata": {
    "colab": {
      "name": "predict-rentals.ipynb",
      "private_outputs": true,
      "provenance": [],
      "collapsed_sections": [],
      "authorship_tag": "ABX9TyOt/7ewi/eItIccmN1G8T61",
      "include_colab_link": true
    },
    "kernelspec": {
      "name": "python3",
      "display_name": "Python 3"
    },
    "language_info": {
      "name": "python"
    }
  },
  "cells": [
    {
      "cell_type": "markdown",
      "metadata": {
        "id": "view-in-github",
        "colab_type": "text"
      },
      "source": [
        "<a href=\"https://colab.research.google.com/github/franmarq/ml-notes/blob/main/predict_rentals.ipynb\" target=\"_parent\"><img src=\"https://colab.research.google.com/assets/colab-badge.svg\" alt=\"Open In Colab\"/></a>"
      ]
    },
    {
      "cell_type": "markdown",
      "metadata": {
        "id": "w7X-qHL9jkL1"
      },
      "source": [
        "#Curso Microsoft\n",
        "##Create no-code predictive models with Azure Machine Learning / Use automated machine learning in Azure Machine Learning / Deploy a model as a service\n",
        "### https://docs.microsoft.com/en-us/learn/paths/create-no-code-predictive-models-azure-machine-learning/\n",
        "\n",
        "### codigo de ejecucion luego de crear el modelo en Azure\n",
        "\n",
        "\n",
        "\n"
      ]
    },
    {
      "cell_type": "code",
      "metadata": {
        "id": "A3Pr-OtbibCV"
      },
      "source": [
        "endpoint = 'XXXXXXXX' #Replace with your endpoint\n",
        "key = 'XXXXXXXX' #Replace with your key\n",
        "\n",
        "import json\n",
        "import requests\n",
        "\n",
        "#An array of features based on five-day weather forecast\n",
        "x = [[1,1,2022,1,0,6,0,2,0.344167,0.363625,0.805833,0.160446],\n",
        "    [2,1,2022,1,0,0,0,2,0.363478,0.353739,0.696087,0.248539],\n",
        "    [3,1,2022,1,0,1,1,1,0.196364,0.189405,0.437273,0.248309],\n",
        "    [4,1,2022,1,0,2,1,1,0.2,0.212122,0.590435,0.160296],\n",
        "    [5,1,2022,1,0,3,1,1,0.226957,0.22927,0.436957,0.1869]]\n",
        "\n",
        "#Convert the array to JSON format\n",
        "input_json = json.dumps({\"data\": x})\n",
        "\n",
        "#Set the content type and authentication for the request\n",
        "headers = {\"Content-Type\":\"application/json\",\n",
        "        \"Authorization\":\"Bearer \" + key}\n",
        "\n",
        "#Send the request\n",
        "response = requests.post(endpoint, input_json, headers=headers)\n",
        "\n",
        "#If we got a valid response, display the predictions\n",
        "if response.status_code == 200:\n",
        "    y = json.loads(response.json())\n",
        "    print(\"Predictions:\")\n",
        "    for i in range(len(x)):\n",
        "        print (\" Day: {}. Predicted rentals: {}\".format(i+1, max(0, round(y[\"result\"][i]))))\n",
        "else:\n",
        "    print(response)"
      ],
      "execution_count": null,
      "outputs": []
    }
  ]
}
